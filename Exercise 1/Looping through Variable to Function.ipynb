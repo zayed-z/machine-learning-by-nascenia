{
 "cells": [
  {
   "cell_type": "code",
   "execution_count": null,
   "metadata": {},
   "outputs": [],
   "source": []
  },
  {
   "cell_type": "markdown",
   "metadata": {},
   "source": [
    "# 👨‍💻 Python Hands-On Assignment (Easy to Medium Level)\n",
    "\n",
    "**Topics Covered:**  \n",
    "Variables · Operators · Loops · Conditionals · Functions · File Handling"
   ]
  },
  {
   "cell_type": "markdown",
   "metadata": {},
   "source": [
    "## Level 1: Warm-Up\n",
    "Example of writing using this notebook. First tell me your Full Name, please!"
   ]
  },
  {
   "cell_type": "code",
   "execution_count": 2,
   "metadata": {},
   "outputs": [
    {
     "data": {
      "text/plain": [
       "'zayed'"
      ]
     },
     "execution_count": 2,
     "metadata": {},
     "output_type": "execute_result"
    }
   ],
   "source": [
    "student_name = input(\"Enter your name: \")\n",
    "student_name"
   ]
  },
  {
   "cell_type": "markdown",
   "metadata": {},
   "source": [
    "### 1. Greet the User\n",
    "Write a function `greet_user()` that asks the user for their name and prints a welcome message."
   ]
  },
  {
   "cell_type": "code",
   "execution_count": null,
   "metadata": {},
   "outputs": [
    {
     "name": "stdout",
     "output_type": "stream",
     "text": [
      "Testing greet_user function...\n",
      "Hello, Utshab! Welcome to the program.\n"
     ]
    }
   ],
   "source": [
    "# Your code here\n",
    "def greet_user():\n",
    "    \"\"\"\n",
    "    This function prints a greeting message to the user.\n",
    "    \"\"\"\n",
    "    name = input(\"Please enter your name: \")\n",
    "    print(f\"Hello, {name}! Welcome to the program.\")\n",
    "\n",
    "# Test function. \n",
    "if __name__ == \"__main__\":\n",
    "    print(\"Testing greet_user function...\")\n",
    "    greet_user()"
   ]
  },
  {
   "cell_type": "markdown",
   "metadata": {},
   "source": [
    "### 2. Area Calculator\n",
    "Create a function `calculate_area(length, width)` that returns the area of a rectangle."
   ]
  },
  {
   "cell_type": "code",
   "execution_count": 3,
   "metadata": {},
   "outputs": [
    {
     "name": "stdout",
     "output_type": "stream",
     "text": [
      "60\n"
     ]
    }
   ],
   "source": [
    "# Your code here\n",
    "def calculate_area(length, width):\n",
    "     # Write your code here\n",
    "     return length*width\n",
    "\n",
    "# Test function. Don't modify this.\n",
    "if __name__ == \"__main__\":\n",
    "    area = calculate_area(15, 4) \n",
    "    print(area) # Expected output: 60"
   ]
  },
  {
   "cell_type": "markdown",
   "metadata": {},
   "source": [
    "## Level 2: Conditionals and Loops"
   ]
  },
  {
   "cell_type": "markdown",
   "metadata": {},
   "source": [
    "### 3. Even or Odd Checker\n",
    "Ask the user for a number and check whether it is even or odd."
   ]
  },
  {
   "cell_type": "code",
   "execution_count": 9,
   "metadata": {},
   "outputs": [
    {
     "name": "stdout",
     "output_type": "stream",
     "text": [
      "23 is odd.\n"
     ]
    }
   ],
   "source": [
    "# Your code here\n",
    "num = int(input(\"Enter a number: \"))\n",
    "if num % 2 ==0:\n",
    "\tprint(f\"{num} is even.\")\n",
    "else:\n",
    "\tprint(f\"{num} is odd.\")\n",
    "\t"
   ]
  },
  {
   "cell_type": "markdown",
   "metadata": {},
   "source": [
    "### 4. Multiplication Table Generator\n",
    "Write a function `print_table(n)` that prints the multiplication table of `n` up to 10."
   ]
  },
  {
   "cell_type": "code",
   "execution_count": 10,
   "metadata": {},
   "outputs": [
    {
     "name": "stdout",
     "output_type": "stream",
     "text": [
      "10 x 1 = 10\n",
      "10 x 2 = 20\n",
      "10 x 3 = 30\n",
      "10 x 4 = 40\n",
      "10 x 5 = 50\n",
      "10 x 6 = 60\n",
      "10 x 7 = 70\n",
      "10 x 8 = 80\n",
      "10 x 9 = 90\n",
      "10 x 10 = 100\n"
     ]
    }
   ],
   "source": [
    "# Your code here\n",
    "def print_table(n):\n",
    "    for i in range(1,11):\n",
    "        print(f\"{n} x {i} = {n*i}\")\n",
    "        \n",
    "\t\t\n",
    "\n",
    "# Test function. Don't modify this.\n",
    "if __name__ == \"__main__\":\n",
    "    print_table(10) \n",
    "    \"\"\"\n",
    "    Expected output: \n",
    "    10 x 1 = 10\n",
    "    10 x 2 = 20\n",
    "    ...\n",
    "    10 x 10 = 100\n",
    "    \"\"\""
   ]
  },
  {
   "cell_type": "markdown",
   "metadata": {},
   "source": [
    "### 5. Password Strength Checker\n",
    "Ask the user to enter a password and check if it is strong based on given conditions:\n",
    "- It should contain at least:\n",
    "    - one capital letter\n",
    "    - one small letter\n",
    "    - one digit"
   ]
  },
  {
   "cell_type": "code",
   "execution_count": null,
   "metadata": {},
   "outputs": [
    {
     "name": "stdout",
     "output_type": "stream",
     "text": [
      "Weak Password\n"
     ]
    }
   ],
   "source": [
    "# Your code here\n",
    "password = input(\"Enter a password\")\n",
    "cap = False\n",
    "small = False\n",
    "digit = False\n",
    "for char in password:\n",
    "\tif char.isupper():\n",
    "\t\tcap = True    \t\t#when char encounters the first capital letter, 'cap' is set to true\n",
    "\tif char.islower():\n",
    "\t\tsmall = True\t\t#when char encounters the first small letter, 'small' is set to true\n",
    "\tif char.isdigit():\n",
    "\t\tdigit = True\t\t#when char encounters the first digit, 'digit' is set to true\n",
    "\n",
    "if cap and small and digit:\n",
    "\tprint(\"Strong Password\")\n",
    "else: \n",
    "\tprint(\"Weak Password\")\n",
    "\n"
   ]
  },
  {
   "cell_type": "markdown",
   "metadata": {},
   "source": [
    "## Level 3: Loop + Function"
   ]
  },
  {
   "cell_type": "markdown",
   "metadata": {},
   "source": [
    "### 6. Prime Number Finder\n",
    "Create a function `is_prime(n)` and print all prime numbers from 1 to 100."
   ]
  },
  {
   "cell_type": "code",
   "execution_count": null,
   "metadata": {},
   "outputs": [
    {
     "name": "stdout",
     "output_type": "stream",
     "text": [
      "2 3 5 7 11 13 17 19 23 29 31 37 41 43 47 53 59 61 67 71 73 79 83 89 97 "
     ]
    }
   ],
   "source": [
    "# Your code here\n",
    "\n",
    "def is_prime(n):\n",
    "\tif n == 2:\n",
    "\t\tprint(n, end=\" \")\t\t\t#2 is printed beacuse 2 is the lowest prime\n",
    "\telse:\n",
    "\n",
    "\t\tflag = True\t\t\t\t\t#by befault considering every number as prime\n",
    "\n",
    "\t\tfor i in range(2, n):      \n",
    "\t\t\tif n%i == 0:\t\t\t#when the number is divisible by any number from 2 to itself it is not a prime\n",
    "\t\t\t\tflag = False\t\t#and the flag variable is set to false and the number is not printed\n",
    "\t\tif flag == True:\n",
    "\t\t\tprint(n, end=\" \")\t\t#flag variable remains true when the number is not divisible and is printed as prime\n",
    "\n",
    "for i in range(2,101):\n",
    "\tis_prime(i)"
   ]
  },
  {
   "cell_type": "markdown",
   "metadata": {},
   "source": [
    "## Level 4: File Handling"
   ]
  },
  {
   "cell_type": "markdown",
   "metadata": {},
   "source": [
    "### 7. Write to File: Shopping List\n",
    "Ask the user for 5 shopping items and write them to a file `shopping_list.txt`."
   ]
  },
  {
   "cell_type": "code",
   "execution_count": 26,
   "metadata": {},
   "outputs": [
    {
     "name": "stdout",
     "output_type": "stream",
     "text": [
      "['mouse', 'keyboard', 'pen', 'paper', 'laptop']\n"
     ]
    }
   ],
   "source": [
    "# Your code here\n",
    "shopping_list = []\n",
    "for i in range(5):\n",
    "\titem = input(f\"Enter shopping item {i+1}: \")\n",
    "\tshopping_list.append(item)\n",
    "\n",
    "print(shopping_list)\n",
    "\n",
    "file = open(\"shopping_list.txt\", 'w')\n",
    "for itm in shopping_list:\n",
    "\tfile.write(itm + \", \")\n",
    "file.close()"
   ]
  },
  {
   "cell_type": "markdown",
   "metadata": {},
   "source": [
    "### 8. Read and Count Words\n",
    "Read a file `sample.txt` and count the number of words in it."
   ]
  },
  {
   "cell_type": "code",
   "execution_count": 31,
   "metadata": {},
   "outputs": [
    {
     "name": "stdout",
     "output_type": "stream",
     "text": [
      "91\n"
     ]
    }
   ],
   "source": [
    "# Your code here\n",
    "file = open('sample.txt', 'r')\n",
    "content = file.read()\n",
    "#print(content)\n",
    "words = content.split()\n",
    "#print(words)\n",
    "print(len(words))"
   ]
  },
  {
   "cell_type": "markdown",
   "metadata": {},
   "source": [
    "## Level 5: Integration Challenge"
   ]
  },
  {
   "cell_type": "markdown",
   "metadata": {},
   "source": [
    "### 9. Student Gradebook\n",
    "- Ask for the number of students\n",
    "- Get each student's name and marks\n",
    "- Store them in a dictionary\n",
    "- Write name and \"Pass\" or \"Fail\" to `grades.txt` (Pass if marks ≥ 40)"
   ]
  },
  {
   "cell_type": "code",
   "execution_count": 37,
   "metadata": {},
   "outputs": [
    {
     "name": "stdout",
     "output_type": "stream",
     "text": [
      "{'zayed': 23, 'anas': 67, 'masud': 78, 'fahim': 10}\n"
     ]
    }
   ],
   "source": [
    "# Your code here\n",
    "n = int(input(\"Enter number of students: \"))\n",
    "grade_dict = {}\n",
    "for i in range(n):\n",
    "\tname = input(\"Student name: \")\n",
    "\tmarks = int(input(\"Student marks: \"))\n",
    "\tgrade_dict[name] = marks\n",
    "\n",
    "print(grade_dict)\n",
    "\n",
    "file = open('grades.txt', 'w')\n",
    "\n",
    "for name, marks in grade_dict.items():\n",
    "\tif marks >= 40:\n",
    "\t\tfile.write(f\"{name}: Pass \\n\")\n",
    "\telse:\n",
    "\t\tfile.write(f\"{name}: Fail \\n\")\n",
    "\n",
    "file.close()\n"
   ]
  },
  {
   "cell_type": "markdown",
   "metadata": {},
   "source": [
    "## Level 6: Programming Challenges (Bonus)"
   ]
  },
  {
   "cell_type": "markdown",
   "metadata": {},
   "source": [
    "### 10. Leetcode\n",
    "Follow the below links and solve as many as you can. Provide you submission links."
   ]
  },
  {
   "cell_type": "markdown",
   "metadata": {},
   "source": [
    "| # | Problem | Submission Link |\n",
    "| :---: | :---: | :---: |\n",
    "| 01 | Problem 1. https://leetcode.com/problems/defanging-an-ip-address/description/ | [Problem 01](https://https://leetcode.com/submissions/detail/1640640237/)|\n",
    "| 02 | Problem 4. https://leetcode.com/problems/jewels-and-stones/description/ | [Problem 04](https://leetcode.com/submissions/detail/1640672513/)|\n",
    "\n",
    "\n",
    "###### Problem 1. https://leetcode.com/problems/defanging-an-ip-address/description/\n",
    "###### Problem 2. https://leetcode.com/problems/valid-parentheses/\n",
    "###### Problem 3. https://leetcode.com/problems/merge-two-sorted-lists/\n",
    "###### Problem 4. https://leetcode.com/problems/jewels-and-stones/description/\n",
    "###### Problem 5. https://leetcode.com/problems/longest-common-prefix/\n",
    "\n",
    "\n"
   ]
  }
 ],
 "metadata": {
  "kernelspec": {
   "display_name": "venv",
   "language": "python",
   "name": "python3"
  },
  "language_info": {
   "codemirror_mode": {
    "name": "ipython",
    "version": 3
   },
   "file_extension": ".py",
   "mimetype": "text/x-python",
   "name": "python",
   "nbconvert_exporter": "python",
   "pygments_lexer": "ipython3",
   "version": "undefined.undefined.undefined"
  }
 },
 "nbformat": 4,
 "nbformat_minor": 2
}
